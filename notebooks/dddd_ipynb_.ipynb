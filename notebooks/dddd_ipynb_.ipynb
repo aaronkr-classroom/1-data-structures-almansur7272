{
  "nbformat": 4,
  "nbformat_minor": 0,
  "metadata": {
    "colab": {
      "provenance": []
    },
    "kernelspec": {
      "name": "python3",
      "display_name": "Python 3"
    },
    "language_info": {
      "name": "python"
    }
  },
  "cells": [
    {
      "cell_type": "code",
      "execution_count": null,
      "metadata": {
        "id": "qQ7kOZHHIJuV"
      },
      "outputs": [],
      "source": [
        "import heapq\n",
        "import networkx as nx\n",
        "import matplotlib.pyplot as plt\n",
        "\n",
        "\n",
        "landmarks = {\n",
        "    'Jeonju': {\n",
        "        'Daejon': 80,\n",
        "        'Gwangju': 90,\n",
        "        'Jinju': 116\n",
        "    },\n",
        "    'Jinju': {\n",
        "        'Jeonju': 116,\n",
        "        'Busan': 86\n",
        "    },\n",
        "    \"Gwangju\": {\n",
        "        'Jeonju': 90,\n",
        "        'Daejon': 142,\n",
        "    },\n",
        "    'Busan': {\n",
        "        'Jinju': 86,\n",
        "        'Ulsan': 46,\n",
        "        'Jeju': 299\n",
        "    },\n",
        "    'Ulsan': {\n",
        "        'Busan': 46,\n",
        "        'Daejon': 197,\n",
        "        'Jeju': 176\n",
        "    },\n",
        "    'Jeju': {\"Busan\": 299},\n",
        "    'Daejon': {\n",
        "        'Jeonju': 62,\n",
        "        \"Ulsan\": 197,\n",
        "        'Gwangju': 142\n",
        "    }\n",
        "}"
      ]
    },
    {
      "cell_type": "code",
      "source": [
        " # BFS\n",
        "def bfs(graph, start, end):\n",
        "  visited = set()\n",
        "  queue = [(start, [start])]\n",
        "  while queue:\n",
        "    current, path = queue.pop(0)\n",
        "    visited.add(current)\n",
        "    if current == end:\n",
        "      return path\n",
        "    if current not in visited:\n",
        "      visited.add(current)\n",
        "      for neighbour in graph[current]:\n",
        "        queue.append((neighbour, path + [neighbour]))\n",
        "  return None"
      ],
      "metadata": {
        "id": "yTG3BdJhKJ2z"
      },
      "execution_count": null,
      "outputs": []
    },
    {
      "cell_type": "code",
      "source": [
        "# Dijkstra\n",
        "def dijkstra(graph, start, end):\n",
        "  min_heap = [(0, start)]\n",
        "  times = {landmark: float('inf') for landmark in graph}\n",
        "  times[start] = 0\n",
        "  while min_heap:\n",
        "    current_time, current_landmark = heapq.heappop(min_heap)\n",
        "    for neighbour, time in graph[current_landmark].items():\n",
        "      new_time = current_time + time\n",
        "      if new_time < times[neighbour]:\n",
        "        times[neighbour] = new_time\n",
        "        heapq.heappush(min_heap, (new_time, neighbour))\n",
        "  return times"
      ],
      "metadata": {
        "id": "LDHlO959LqT4"
      },
      "execution_count": null,
      "outputs": []
    },
    {
      "cell_type": "code",
      "source": [
        "print('BFS from Jeonju to Jeju:')\n",
        "print(bfs(landmarks, 'Jeonju', 'Jeju'))\n",
        "print('Dijkstra from Jeonju to Jeju:')\n",
        "print(dijkstra(landmarks, 'Jeonju', 'Jeju'))"
      ],
      "metadata": {
        "colab": {
          "base_uri": "https://localhost:8080/"
        },
        "id": "WfoRQUdINGkL",
        "outputId": "0afdbf91-f9bc-4e8d-801b-33c7ffcf3a7d"
      },
      "execution_count": null,
      "outputs": [
        {
          "output_type": "stream",
          "name": "stdout",
          "text": [
            "BFS from Jeonju to Jeju:\n",
            "None\n",
            "Dijkstra from Jeonju to Jeju:\n",
            "{'Jeonju': 0, 'Jinju': 116, 'Gwangju': 90, 'Busan': 202, 'Ulsan': 248, 'Jeju': 424, 'Daejon': 80}\n"
          ]
        }
      ]
    },
    {
      "cell_type": "code",
      "source": [],
      "metadata": {
        "id": "vJGvqarJR9MB"
      },
      "execution_count": null,
      "outputs": []
    }
  ]
}